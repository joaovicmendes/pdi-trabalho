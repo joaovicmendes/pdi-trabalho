{
 "cells": [
  {
   "cell_type": "markdown",
   "metadata": {},
   "source": [
    "# Flood Fill para Detecção de Componentes Conexos\n",
    "Uma forma de extrairmos componentes conexos de uma imagem é utilizarmos o algoritmo Flood Fill. Consistem em aplicar uma busca em largura na imagem procurando pixels de mesma intensidade de dada origem e que estejam em uma determinada vizinhança dela. Nesta implementação, consideramos uma vizinhança-4."
   ]
  },
  {
   "cell_type": "code",
   "execution_count": 1,
   "metadata": {},
   "outputs": [],
   "source": [
    "import numpy as np\n",
    "import matplotlib.pyplot as plt\n",
    "from collections import deque"
   ]
  },
  {
   "cell_type": "code",
   "execution_count": 2,
   "metadata": {},
   "outputs": [],
   "source": [
    "def flood_fill(img, origin):\n",
    "    '''Encontra todos os pixels a partir de origin que tenham o mesmo valor de intensidade.\n",
    "        Considera uma 4-vizinhança.\n",
    "\n",
    "        Parâmetros\n",
    "        ----------\n",
    "        img : numpy array.\n",
    "            Imagem a ser filtrada.\n",
    "            \n",
    "        origin : tuple\n",
    "            Par de coordenadas (x, y) da imagem na qual deve-se iniciar a busca.\n",
    "            \n",
    "        Return\n",
    "        -------\n",
    "        obj : numpy array, contém tuplas de coordenadas.\n",
    "            Coordenadas do objeto desejado na imagem.\n",
    "    '''\n",
    "    obj = []              # Lista com coordenadas do objeto (retornado)\n",
    "    visited = set()       # Conjunto dos pontos visitados\n",
    "    queue = deque()       # Fila de pontos que ainda precisam ser visitados\n",
    "    \n",
    "    queue.append(origin)\n",
    "    while queue:\n",
    "        \n",
    "        row, col = queue.popleft()\n",
    "        \n",
    "        if (row, col) not in visited:\n",
    "            # Se ainda não foi visitado e foi colocado na fila, adiciona \n",
    "            # como parte do objeto\n",
    "            obj.append((row, col))\n",
    "            visited.add((row, col))\n",
    "\n",
    "            up    = (row-1, col)  # Vizinho de cima\n",
    "            right = (row, col+1)  # Vizinho da direita\n",
    "            down  = (row+1, col)  # Vizinho de baixo\n",
    "            left  = (row, col-1)  # Vizinho da esquerda\n",
    "\n",
    "            # Adiciona cada vizinho na fila contanto que:\n",
    "            # 1. respeitem os limites da imagem,\n",
    "            # 2. ainda não tenham sido visitados e\n",
    "            # 3. tenham a mesma intensidade da origem\n",
    "            if row != 0:\n",
    "                if (up not in visited) and (img[up] == img[origin]):\n",
    "                    queue.append(up)\n",
    "\n",
    "            if col != img.shape[1]-1:\n",
    "                if (right not in visited) and (img[right] == img[origin]):\n",
    "                    queue.append(right)\n",
    "\n",
    "            if row != img.shape[0]-1:\n",
    "                if (down not in visited) and (img[down] == img[origin]):\n",
    "                    queue.append(down)\n",
    "\n",
    "            if col != 0:\n",
    "                if (left not in visited) and (img[left] == img[origin]):\n",
    "                    queue.append(left)\n",
    "                    \n",
    "    return obj"
   ]
  },
  {
   "cell_type": "markdown",
   "metadata": {},
   "source": [
    "## Testando com matriz de 0s e 1s"
   ]
  },
  {
   "cell_type": "code",
   "execution_count": 3,
   "metadata": {},
   "outputs": [],
   "source": [
    "# Criando uma matriz de 0s e 1s\n",
    "img = np.array([[0, 0, 0, 1],\n",
    "                [0, 1, 1, 0],\n",
    "                [0, 1, 1, 1],\n",
    "                [0, 0, 1, 1]])\n",
    "\n",
    "obj = flood_fill(img, (1, 1))"
   ]
  },
  {
   "cell_type": "code",
   "execution_count": 4,
   "metadata": {},
   "outputs": [
    {
     "name": "stdout",
     "output_type": "stream",
     "text": [
      "Matriz Original: \n",
      "[[0 0 0 1]\n",
      " [0 1 1 0]\n",
      " [0 1 1 1]\n",
      " [0 0 1 1]]\n",
      "\n",
      "\n",
      "Matriz após Flood Fill\n",
      "[[0 0 0 1]\n",
      " [0 2 2 0]\n",
      " [0 2 2 2]\n",
      " [0 0 2 2]]\n"
     ]
    }
   ],
   "source": [
    "print(\"Matriz Original: \")\n",
    "print(img)\n",
    "print(\"\\n\")\n",
    "\n",
    "# Alterando os pontos retornados pelo flood fill para 2\n",
    "img2 = img.copy()\n",
    "for point in obj:\n",
    "    img2[point] = 2\n",
    "    \n",
    "print(\"Matriz após Flood Fill\")\n",
    "print(img2)"
   ]
  },
  {
   "cell_type": "markdown",
   "metadata": {},
   "source": [
    "## Buscando Componentes em Imagens"
   ]
  },
  {
   "cell_type": "code",
   "execution_count": 5,
   "metadata": {},
   "outputs": [],
   "source": [
    "img = plt.imread('componentes.tiff')\n",
    "\n",
    "obj1 = flood_fill(img, (20,20))\n",
    "obj2 = flood_fill(img, (60,20))\n",
    "obj3 = flood_fill(img, (80,78))"
   ]
  },
  {
   "cell_type": "code",
   "execution_count": 6,
   "metadata": {},
   "outputs": [
    {
     "data": {
      "text/plain": [
       "<matplotlib.image.AxesImage at 0x10adcc7c0>"
      ]
     },
     "execution_count": 6,
     "metadata": {},
     "output_type": "execute_result"
    },
    {
     "data": {
      "image/png": "[encoded data removed]",
      "text/plain": [
       "<Figure size 1008x432 with 2 Axes>"
      ]
     },
     "metadata": {
      "needs_background": "light"
     },
     "output_type": "display_data"
    }
   ],
   "source": [
    "img_colored = img.copy()\n",
    "\n",
    "# Colorindo o primeiro objeto na imagem\n",
    "for point in obj1:\n",
    "    img_colored[point] = 75\n",
    "    \n",
    "# Colorindo o primeiro objeto na imagem\n",
    "for point in obj2:\n",
    "    img_colored[point] = 125\n",
    "    \n",
    "# Colorindo o primeiro objeto na imagem\n",
    "for point in obj3:\n",
    "    img_colored[point] = 175\n",
    "    \n",
    "plt.figure(figsize=[14, 6])\n",
    "plt.subplot(1, 2, 1)\n",
    "plt.title(\"Imagem Original\")\n",
    "plt.imshow(img, vmin=0, vmax=255)\n",
    "\n",
    "\n",
    "plt.subplot(1, 2, 2)\n",
    "plt.title(\"Imagem Com Objetos coloridos\")\n",
    "plt.imshow(img_colored, vmin=0, vmax=255)"
   ]
  },
  {
   "cell_type": "code",
   "execution_count": 7,
   "metadata": {},
   "outputs": [],
   "source": [
    "img = plt.imread('blob.tiff')\n",
    "\n",
    "obj = flood_fill(img, (25,25))\n",
    "bg  = flood_fill(img, (0,0))"
   ]
  },
  {
   "cell_type": "code",
   "execution_count": 8,
   "metadata": {},
   "outputs": [
    {
     "data": {
      "text/plain": [
       "<matplotlib.image.AxesImage at 0x10af14880>"
      ]
     },
     "execution_count": 8,
     "metadata": {},
     "output_type": "execute_result"
    },
    {
     "data": {
      "image/png": "[encoded data removed]",
      "text/plain": [
       "<Figure size 1008x432 with 3 Axes>"
      ]
     },
     "metadata": {
      "needs_background": "light"
     },
     "output_type": "display_data"
    }
   ],
   "source": [
    "img_colored_1 = img.copy()\n",
    "img_colored_2 = img.copy()\n",
    "\n",
    "for point in obj:\n",
    "    img_colored_1[point] = 150\n",
    "    \n",
    "for point in bg:\n",
    "    img_colored_2[point] = 150\n",
    "    \n",
    "plt.figure(figsize=[14, 6])\n",
    "plt.subplot(1, 3, 1)\n",
    "plt.title(\"Imagem Original\")\n",
    "plt.imshow(img, vmin=0, vmax=255)\n",
    "\n",
    "\n",
    "plt.subplot(1, 3, 2)\n",
    "plt.title(\"Imagem com objeto colorido\")\n",
    "plt.imshow(img_colored_1, vmin=0, vmax=255)\n",
    "\n",
    "plt.subplot(1, 3, 3)\n",
    "plt.title(\"Imagem com fundo colorido\")\n",
    "plt.imshow(img_colored_2, vmin=0, vmax=255)"
   ]
  }
 ],
 "metadata": {
  "kernelspec": {
   "display_name": "Python 3",
   "language": "python",
   "name": "python3"
  },
  "language_info": {
   "codemirror_mode": {
    "name": "ipython",
    "version": 3
   },
   "file_extension": ".py",
   "mimetype": "text/x-python",
   "name": "python",
   "nbconvert_exporter": "python",
   "pygments_lexer": "ipython3",
   "version": "3.8.5"
  }
 },
 "nbformat": 4,
 "nbformat_minor": 4
}
