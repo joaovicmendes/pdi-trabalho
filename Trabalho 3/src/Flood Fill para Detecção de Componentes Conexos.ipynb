{
 "cells": [
  {
   "cell_type": "code",
   "execution_count": 1,
   "metadata": {},
   "outputs": [],
   "source": [
    "import numpy as np\n",
    "import matplotlib.pyplot as plt\n",
    "from collections import deque"
   ]
  },
  {
   "cell_type": "code",
   "execution_count": 2,
   "metadata": {},
   "outputs": [],
   "source": [
    "def flood_fill(img, origin):\n",
    "    obj = []                                   # Lista com coordenadas do objeto\n",
    "    visited = np.zeros(img.shape).astype(bool) # Matriz com pontos já visitados\n",
    "    queue = deque()                            # Fila de pontos que ainda precisam ser visitados\n",
    "    \n",
    "    queue.append(origin)\n",
    "    while queue:\n",
    "        \n",
    "        row, col = queue.popleft()\n",
    "        if not visited[row, col]:\n",
    "            obj.append((row, col))\n",
    "            visited[(row, col)] = True\n",
    "\n",
    "            # Define os quatro vizinhos\n",
    "            up    = (row-1, col  )\n",
    "            right = (row  , col+1)\n",
    "            down  = (row+1, col )\n",
    "            left  = (row  , col-1)\n",
    "\n",
    "            # Adiciona cada vizinho na fila, contanto que se respeitem os limites \n",
    "            # da imagem, ainda não tenham sido visitados e tenham a intensidade da origem\n",
    "            # Vizinha de cima\n",
    "            if row != 0:\n",
    "                if not visited[up] and img[up] == img[origin]:\n",
    "                    queue.append(up)\n",
    "\n",
    "            # Vizinho à direita\n",
    "            if col != img.shape[1]-1:\n",
    "                if not visited[right] and img[right] == img[origin]:\n",
    "                    queue.append(right)\n",
    "\n",
    "            # Vizinho de baixo\n",
    "            if row != img.shape[0]-1:\n",
    "                if not visited[down] and img[down] == img[origin]:\n",
    "                    queue.append(down)\n",
    "\n",
    "            # Vizinho à esquerda\n",
    "            if col != 0:\n",
    "                if not visited[left] and img[left] == img[origin]:\n",
    "                    queue.append(left)\n",
    "                    \n",
    "    return obj"
   ]
  },
  {
   "cell_type": "code",
   "execution_count": 3,
   "metadata": {},
   "outputs": [
    {
     "name": "stdout",
     "output_type": "stream",
     "text": [
      "[(1, 1), (1, 2), (2, 1), (1, 3), (2, 2), (0, 3), (2, 3), (3, 2), (3, 3)]\n"
     ]
    }
   ],
   "source": [
    "img = np.array([[0, 0, 0, 1],\n",
    "                [0, 1, 1, 1],\n",
    "                [0, 1, 1, 1],\n",
    "                [0, 0, 1, 1]])\n",
    "\n",
    "obj = flood_fill(img, (1, 1))\n",
    "print(obj)"
   ]
  },
  {
   "cell_type": "code",
   "execution_count": 4,
   "metadata": {},
   "outputs": [
    {
     "name": "stdout",
     "output_type": "stream",
     "text": [
      "Imagem Original: \n",
      "[[0 0 0 1]\n",
      " [0 1 1 1]\n",
      " [0 1 1 1]\n",
      " [0 0 1 1]]\n",
      "Imagem após Flood Fill\n",
      "[[0 0 0 2]\n",
      " [0 2 2 2]\n",
      " [0 2 2 2]\n",
      " [0 0 2 2]]\n"
     ]
    }
   ],
   "source": [
    "print(\"Imagem Original: \")\n",
    "print(img)\n",
    "\n",
    "img2 = img.copy()\n",
    "for point in obj:\n",
    "    img2[point] = 2\n",
    "    \n",
    "print(\"Imagem após Flood Fill\")\n",
    "print(img2)"
   ]
  },
  {
   "cell_type": "code",
   "execution_count": 25,
   "metadata": {},
   "outputs": [],
   "source": [
    "img = plt.imread('componentes.tiff')\n",
    "\n",
    "obj = flood_fill(img, (60,20))"
   ]
  },
  {
   "cell_type": "code",
   "execution_count": 28,
   "metadata": {},
   "outputs": [
    {
     "data": {
      "text/plain": [
       "<matplotlib.image.AxesImage at 0x110f34c10>"
      ]
     },
     "execution_count": 28,
     "metadata": {},
     "output_type": "execute_result"
    },
    {
     "data": {
      "image/png": "[encoded data removed]",
      "text/plain": [
       "<Figure size 1008x432 with 2 Axes>"
      ]
     },
     "metadata": {
      "needs_background": "light"
     },
     "output_type": "display_data"
    }
   ],
   "source": [
    "img_colored = img.copy()\n",
    "for point in obj:\n",
    "    img_colored[point] = 100\n",
    "    \n",
    "plt.figure(figsize=[14, 6])\n",
    "plt.subplot(1, 2, 1)\n",
    "plt.imshow(img, vmin=0, vmax=255)\n",
    "plt.subplot(1, 2, 2)\n",
    "plt.imshow(img_colored, vmin=0, vmax=255)"
   ]
  },
  {
   "cell_type": "code",
   "execution_count": 29,
   "metadata": {},
   "outputs": [],
   "source": [
    "img = plt.imread('blob.tiff')\n",
    "\n",
    "obj = flood_fill(img, (25,25))"
   ]
  },
  {
   "cell_type": "code",
   "execution_count": 30,
   "metadata": {},
   "outputs": [
    {
     "data": {
      "text/plain": [
       "<matplotlib.image.AxesImage at 0x110cc7eb0>"
      ]
     },
     "execution_count": 30,
     "metadata": {},
     "output_type": "execute_result"
    },
    {
     "data": {
      "image/png": "[encoded data removed]",
      "text/plain": [
       "<Figure size 1008x432 with 2 Axes>"
      ]
     },
     "metadata": {
      "needs_background": "light"
     },
     "output_type": "display_data"
    }
   ],
   "source": [
    "img_colored = img.copy()\n",
    "for point in obj:\n",
    "    img_colored[point] = 100\n",
    "    \n",
    "plt.figure(figsize=[14, 6])\n",
    "plt.subplot(1, 2, 1)\n",
    "plt.imshow(img, vmin=0, vmax=255)\n",
    "plt.subplot(1, 2, 2)\n",
    "plt.imshow(img_colored, vmin=0, vmax=255)"
   ]
  }
 ],
 "metadata": {
  "kernelspec": {
   "display_name": "Python 3",
   "language": "python",
   "name": "python3"
  },
  "language_info": {
   "codemirror_mode": {
    "name": "ipython",
    "version": 3
   },
   "file_extension": ".py",
   "mimetype": "text/x-python",
   "name": "python",
   "nbconvert_exporter": "python",
   "pygments_lexer": "ipython3",
   "version": "3.8.5"
  }
 },
 "nbformat": 4,
 "nbformat_minor": 4
}
