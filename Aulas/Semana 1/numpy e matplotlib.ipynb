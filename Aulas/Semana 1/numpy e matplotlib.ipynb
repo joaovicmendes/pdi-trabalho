{
 "cells": [
  {
   "cell_type": "markdown",
   "metadata": {},
   "source": [
    "## Numpy"
   ]
  },
  {
   "cell_type": "code",
   "execution_count": 1,
   "metadata": {
    "collapsed": true
   },
   "outputs": [],
   "source": [
    "import numpy as np      # Importa biblioteca numpy, dando a ela o nome np\n",
    "\n",
    "vetor1 = [2.3, 5.4, 3.3, 2.5, 7.3]\n",
    "vetor2 = [1.2, 5.4, 2.3, 7.6, 4.3]\n",
    "\n",
    "# Transforma lista em um \"vetor numpy\". Ao contrário de listas, \n",
    "# um vetor numpy possui dados contíguos na memória. Fundamentalmente, \n",
    "# é um array C que pode ser acessado pelo Python.\n",
    "v1 = np.array(vetor1)\n",
    "v2 = np.array(vetor2)\n",
    "\n",
    "# Multiplica cada elemento do vetor v1 pelo número 5\n",
    "res = 5*v1\n",
    "\n",
    "# Soma de vetores e produto escalar\n",
    "vSoma = v1 + v2\n",
    "produtoEscalar = sum(v1*v2)\n",
    "\n",
    "# Media e desvio padrao\n",
    "media1 = np.mean(vetor1)\n",
    "desvio1 = np.std(vetor1)"
   ]
  },
  {
   "cell_type": "code",
   "execution_count": 2,
   "metadata": {},
   "outputs": [],
   "source": [
    "# Define matrizes (lista de listas)\n",
    "matriz1 = [[3.2, 5.3, 6.2, 1.0],\n",
    "           [7.4, 2.3, 5.3, 0.4],\n",
    "           [4.3, 2.4, 7.5, 2.3],\n",
    "           [0.5, 1.3, 4.5, 2.4]]\n",
    "\n",
    "matriz2 = [[4.6, 2.5, 3.5, 2.6],\n",
    "           [1.4, 5.3, 5.3, 3.4],\n",
    "           [7.3, 2.5, 6.5, 9.3],\n",
    "           [5.5, 2.5, 3.5, 8.4]]\n",
    "\n",
    "# Determinante da matriz\n",
    "det1 = np.linalg.det(matriz1)\n",
    "\n",
    "# Produto de matrizes\n",
    "produtoMatricial = np.dot(matriz1, matriz2)\n",
    "\n",
    "# Soma elemento a elemento de matrizes\n",
    "somaMatrizes = matriz1 + matriz2"
   ]
  },
  {
   "cell_type": "code",
   "execution_count": 3,
   "metadata": {},
   "outputs": [
    {
     "name": "stdout",
     "output_type": "stream",
     "text": [
      "x=3.0, y=5.4, z=6.2\n",
      "Produto coefs solucao: [54.6 98.8 65.2]\n"
     ]
    }
   ],
   "source": [
    "# Resolve o seguinte sistema de equacoes:\n",
    "# 3x + 5y  + 3z = 54.6\n",
    "# x  + 12y + 5z = 98.8\n",
    "# 5x + 7y  + 2z = 65.2\n",
    "\n",
    "coefs = [[3,  5, 3],\n",
    "         [1, 12, 5],\n",
    "         [5,  7, 2]]\n",
    "\n",
    "valDireita = [54.6, 98.8, 65.2]\n",
    "\n",
    "res = np.linalg.solve(coefs, valDireita)\n",
    "print(\"x={:.2}, y={:.2}, z={:.2}\".format(res[0], res[1], res[2]))\n",
    "\n",
    "#Verifica solucao\n",
    "prod = np.dot(coefs, res)\n",
    "print(\"Produto coefs solucao: {}\".format(prod.T))"
   ]
  },
  {
   "cell_type": "markdown",
   "metadata": {},
   "source": [
    "## Matplotlib"
   ]
  },
  {
   "cell_type": "code",
   "execution_count": 4,
   "metadata": {},
   "outputs": [
    {
     "data": {
      "text/plain": [
       "[<matplotlib.lines.Line2D at 0x25f40783320>]"
      ]
     },
     "execution_count": 4,
     "metadata": {},
     "output_type": "execute_result"
    },
    {
     "data": {
      "image/png": "[encoded data removed]",
      "text/plain": [
       "<Figure size 432x288 with 1 Axes>"
      ]
     },
     "metadata": {},
     "output_type": "display_data"
    }
   ],
   "source": [
    "# Comando útil para plotar gráficos de forma interativa:\n",
    "#%matplotlib notebook\n",
    "\n",
    "# Importa o submódulo pyplot (que possui as funções de plotar) com nome plt\n",
    "import matplotlib.pyplot as plt      \n",
    "\n",
    "# Gera e plota funcao seno\n",
    "x = np.arange(0, 2*np.pi, 0.01)   # x<-[0, 0.01, 0.02, ...]\n",
    "y = np.sin(2*x)\n",
    "plt.plot(x, y)"
   ]
  },
  {
   "cell_type": "code",
   "execution_count": 5,
   "metadata": {},
   "outputs": [
    {
     "data": {
      "image/png": "[encoded data removed]",
      "text/plain": [
       "<Figure size 432x288 with 1 Axes>"
      ]
     },
     "metadata": {},
     "output_type": "display_data"
    }
   ],
   "source": [
    "# Gera dados aleatorios com distribuicao gaussiana\n",
    "valGauss = np.random.normal(10, 3, 100000)  # (media, desvio, num pontos)\n",
    "plt.figure()\n",
    "_ = plt.hist(valGauss, 100)"
   ]
  }
 ],
 "metadata": {
  "kernelspec": {
   "display_name": "Python 3",
   "language": "python",
   "name": "python3"
  },
  "language_info": {
   "codemirror_mode": {
    "name": "ipython",
    "version": 3
   },
   "file_extension": ".py",
   "mimetype": "text/x-python",
   "name": "python",
   "nbconvert_exporter": "python",
   "pygments_lexer": "ipython3",
   "version": "3.7.4"
  }
 },
 "nbformat": 4,
 "nbformat_minor": 2
}
