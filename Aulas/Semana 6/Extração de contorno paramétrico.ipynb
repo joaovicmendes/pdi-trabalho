{
 "cells": [
  {
   "cell_type": "markdown",
   "metadata": {},
   "source": [
    "# Extração de contorno paramétrico"
   ]
  },
  {
   "cell_type": "markdown",
   "metadata": {},
   "source": [
    "Faremos a extração do contorno de um objeto de forma que os pixels obtidos estejam ordenados. Isto é, se imaginarmos que estamos caminhando sobre a borda do objeto, os pixels da borda são visitados em sequência. Um array contendo os pixels visitados durante a caminhada representa o contorno paramétrico. Note que podemos realizar a caminhada no sentido horário ou antihorário. No algoritmo abaixo consideraremos o sentido horário. \n",
    "\n",
    "Para um dado pixel de borda corrente, precisamos procurar pelo próximo pixel. Isso é feito visitando os pixels vizinhos do pixel corrente, até que um pixel de valor 1 (representando o objeto) seja encontrado.\n",
    "\n",
    "Note que no algoritmo abaixo, a vizinhança de cada pixel P é enumerada da seguinte forma:\n",
    "\n",
    "<img src=\"https://i.imgur.com/C2eZRvW.png\" alt=\"Imagem não pode ser carregada. Você está conectado com a internet?\" width=\"150\"/>"
   ]
  },
  {
   "cell_type": "code",
   "execution_count": 4,
   "metadata": {},
   "outputs": [],
   "source": [
    "%matplotlib inline\n",
    "import numpy as np\n",
    "import matplotlib.pyplot as plt\n",
    "\n",
    "def image_contour(img):\n",
    "    '''Obtém o contorno paramétrico de um objeto contido\n",
    "       no array img.'''\n",
    "    \n",
    "    # Mapeamento utilizado para encontrar o vizinho inicial a ser\n",
    "    # buscado na próxima iteração dado o vizinho do ponto atual\n",
    "    # Por exemplo, se o ponto atual for (12, 15) e o próximo ponto\n",
    "    # de borda for (12, 16), isso significa que o vizinho de índice\n",
    "    # 2 será o próximo ponto de borda. Nesse novo ponto, precisamos\n",
    "    # buscar a partir do vizinho de índice 1, pois o vizinho de\n",
    "    # índice 0 foi o último ponto a ser verificado antes de encontrarmos\n",
    "    # o ponto atual\n",
    "    neighbor_map = [7, 7, 1, 1, 3, 3, 5, 5]\n",
    "    \n",
    "    # Adiciona 0 ao redor da imagem para evitar pontos \n",
    "    # do objeto tocando a borda\n",
    "    img_pad = np.pad(img, 1, mode='constant')\n",
    "    \n",
    "    num_rows, num_cols = img_pad.shape\n",
    "    k = 0\n",
    "    row = 0\n",
    "    col = 0\n",
    "    # Busca do primeiro ponto do objeto\n",
    "    while img_pad[row, col]==0:\n",
    "        k += 1\n",
    "        row = k//num_cols\n",
    "        col = k - row*num_cols\n",
    "        \n",
    "    curr_point = (row, col)    # Ponto atual\n",
    "    contour = [curr_point]     # Pontos do contorno\n",
    "    starting_index = 2         # Índice do vizinho inicial a ser verificado\n",
    "    while True:\n",
    "        next_point, last_index = get_next_point(img_pad, curr_point, \n",
    "                                                    starting_index)\n",
    "\n",
    "        # Novo índice do vizinho inicial baseado no último\n",
    "        # índice buscado\n",
    "        starting_index = neighbor_map[last_index]\n",
    "        \n",
    "        # Critério de parada. Se o ponto adicionado na iteração anterior (contour[-1])\n",
    "        # for o mesmo que o primeiro ponto (contour[0]) e o ponto atual for o mesmo\n",
    "        # que o segundo ponto adicionado, o algoritmo termina. Só podemos fazer essa\n",
    "        # verificação se o contorno possuir ao menos 2 pontos. Ou seja, nosso algoritmo\n",
    "        # não está tratando o caso de um objeto com apenas 1 pixel\n",
    "        if len(contour)>1:\n",
    "            if next_point==contour[1] and contour[-1]==contour[0]:\n",
    "                break\n",
    "                \n",
    "        contour.append(next_point)\n",
    "        curr_point = next_point\n",
    "        \n",
    "    # Subtrai 1 de cada ponto pois o contorno foi encontrado para a\n",
    "    # imagem preenchida com 0 na borda\n",
    "    for point_index, point in enumerate(contour):\n",
    "        contour[point_index] = (point[0]-1, point[1]-1)\n",
    "        \n",
    "    return contour\n",
    "\n",
    "def get_next_point(img, curr_point, starting_index):\n",
    "    '''Encontra o próximo ponto de borda dado um ponto\n",
    "       corrente curr_point e o índice do primeiro vizinho\n",
    "       a ser verificado (starting_index)'''\n",
    "     \n",
    "    # Lista dos pontos vizinhos dado o índice do vizinho\n",
    "    nei_list = [(-1,0), (-1,1), (0,1), (1,1), \n",
    "                (1,0), (1,-1),(0,-1), (-1,-1)]\n",
    "    \n",
    "    curr_index = starting_index\n",
    "    nei_value = 0\n",
    "    while nei_value==0:\n",
    "        nei_shift = nei_list[curr_index]\n",
    "        nei_row = curr_point[0] + nei_shift[0]\n",
    "        nei_col = curr_point[1] + nei_shift[1]\n",
    "        nei_value = img[nei_row, nei_col]\n",
    "        if nei_value==1:\n",
    "            return (nei_row, nei_col), curr_index\n",
    "        else:\n",
    "            curr_index = (curr_index+1)%8"
   ]
  },
  {
   "cell_type": "code",
   "execution_count": 5,
   "metadata": {},
   "outputs": [
    {
     "data": {
      "text/plain": [
       "[<matplotlib.lines.Line2D at 0x1137740f0>]"
      ]
     },
     "execution_count": 5,
     "metadata": {},
     "output_type": "execute_result"
    },
    {
     "data": {
      "image/png": "[encoded data removed]",
      "text/plain": [
       "<Figure size 432x288 with 1 Axes>"
      ]
     },
     "metadata": {},
     "output_type": "display_data"
    },
    {
     "data": {
      "image/png": "[encoded data removed]",
      "text/plain": [
       "<Figure size 432x288 with 1 Axes>"
      ]
     },
     "metadata": {},
     "output_type": "display_data"
    }
   ],
   "source": [
    "img = plt.imread('blob.tiff')\n",
    "img = img>0\n",
    "plt.imshow(img, 'gray')\n",
    "\n",
    "cont = image_contour(img)\n",
    "# Transforma o contorno em um array numpy\n",
    "cont = np.array(cont)\n",
    "\n",
    "plt.figure()\n",
    "plt.subplot(111, aspect='equal')\n",
    "# Plota os pontos de contorno, precisamos inverter os valores em y porque,\n",
    "# na imagem, a origem está no ponto superior esquerdo\n",
    "plt.plot(cont[:,1], img.shape[0]-cont[:,0])"
   ]
  },
  {
   "cell_type": "code",
   "execution_count": 6,
   "metadata": {},
   "outputs": [
    {
     "data": {
      "text/plain": [
       "[<matplotlib.lines.Line2D at 0x113560f28>]"
      ]
     },
     "execution_count": 6,
     "metadata": {},
     "output_type": "execute_result"
    },
    {
     "data": {
      "image/png": "[encoded data removed]",
      "text/plain": [
       "<Figure size 432x288 with 2 Axes>"
      ]
     },
     "metadata": {},
     "output_type": "display_data"
    }
   ],
   "source": [
    "plt.subplot(1, 2, 1)\n",
    "plt.plot(cont[:,0])\n",
    "plt.subplot(1, 2, 2)\n",
    "plt.plot(cont[:,1])"
   ]
  }
 ],
 "metadata": {
  "kernelspec": {
   "display_name": "Python 3",
   "language": "python",
   "name": "python3"
  },
  "language_info": {
   "codemirror_mode": {
    "name": "ipython",
    "version": 3
   },
   "file_extension": ".py",
   "mimetype": "text/x-python",
   "name": "python",
   "nbconvert_exporter": "python",
   "pygments_lexer": "ipython3",
   "version": "3.7.4"
  }
 },
 "nbformat": 4,
 "nbformat_minor": 2
}
