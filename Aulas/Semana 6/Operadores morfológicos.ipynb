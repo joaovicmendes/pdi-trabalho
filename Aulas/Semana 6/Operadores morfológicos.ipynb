{
 "cells": [
  {
   "cell_type": "markdown",
   "metadata": {},
   "source": [
    "# Operadores morfológicos"
   ]
  },
  {
   "cell_type": "markdown",
   "metadata": {},
   "source": [
    "## 1. Erosão"
   ]
  },
  {
   "cell_type": "code",
   "execution_count": 1,
   "metadata": {},
   "outputs": [],
   "source": [
    "%matplotlib inline\n",
    "import numpy as np\n",
    "import matplotlib.pyplot as plt\n",
    "\n",
    "def erosion(img, elem_est, origin):\n",
    "    '''Erosão de uma imagem binária img utilizando o elemento\n",
    "       estruturante elem_est. A origem do elemento estruturante\n",
    "       é indicada pelo ponto origin'''\n",
    "\n",
    "    num_rows, num_cols = img.shape\n",
    "    num_rows_ee, num_cols_ee = elem_est.shape\n",
    "    \n",
    "    # Armazena as coordenadas do elemento estruturante\n",
    "    set_ee = []\n",
    "    for row in range(num_rows_ee):\n",
    "        for col in range(num_cols_ee):\n",
    "            if elem_est[row, col]==1:\n",
    "                set_ee.append((row-origin[0], col-origin[1]))\n",
    "    \n",
    "    img_res = np.zeros_like(img)\n",
    "    for row in range(num_rows):\n",
    "        for col in range(num_cols):\n",
    "            z = (row, col)\n",
    "            is_contained = contained(img, set_ee, z)\n",
    "            if is_contained:\n",
    "                img_res[row, col] = 1\n",
    "                \n",
    "    return img_res\n",
    "\n",
    "def contained(img, set_ee, z):\n",
    "    '''Verifica se os pontos contidos no conjunto \n",
    "       set_ee, transladados de uma quantia z, mapeiam \n",
    "       todos para um pixel branco na imagem img'''\n",
    "\n",
    "    for point in set_ee:\n",
    "        # Translada o ponto\n",
    "        trans_point = (point[0]+z[0], point[1]+z[1])\n",
    "        # Se o ponto estiver fora da imagem, retorna Falso\n",
    "        if trans_point[0]<0 or trans_point[0]>=img.shape[0] or \\\n",
    "           trans_point[1]<0 or trans_point[1]>=img.shape[1]:\n",
    "            return False\n",
    "        \n",
    "        if img[trans_point]==0:\n",
    "            return False\n",
    "    return True"
   ]
  },
  {
   "cell_type": "code",
   "execution_count": 2,
   "metadata": {},
   "outputs": [],
   "source": [
    "def imshow_with_grid(img):\n",
    "    '''Plota imagem junto com uma grade para facilitar a visualização dos pixels'''\n",
    "    plt.imshow(img, 'gray')\n",
    "    plt.xticks(np.arange(-0.5, img.shape[1]+0.5))\n",
    "    plt.yticks(np.arange(-0.5, img.shape[0]+0.5))\n",
    "    plt.grid()"
   ]
  },
  {
   "cell_type": "code",
   "execution_count": 3,
   "metadata": {},
   "outputs": [
    {
     "data": {
      "image/png": "[encoded data removed]",
      "text/plain": [
       "<Figure size 432x288 with 1 Axes>"
      ]
     },
     "metadata": {
      "needs_background": "light"
     },
     "output_type": "display_data"
    }
   ],
   "source": [
    "img = plt.imread('shape.tiff')\n",
    "# A imagem está no intervalo [0, 255], o comando abaixo é utilizado\n",
    "# para transformar a imagem para o tipo bool [False, True]\n",
    "img = img>0\n",
    "imshow_with_grid(img)"
   ]
  },
  {
   "cell_type": "code",
   "execution_count": 5,
   "metadata": {},
   "outputs": [
    {
     "data": {
      "image/png": "[encoded data removed]",
      "text/plain": [
       "<Figure size 432x288 with 1 Axes>"
      ]
     },
     "metadata": {},
     "output_type": "display_data"
    }
   ],
   "source": [
    "# Elemento estruturante\n",
    "elem_est = np.array([[0, 1, 0],\n",
    "                     [1, 1, 1],\n",
    "                     [0, 1, 0]])\n",
    "\n",
    "img_res = erosion(img, elem_est, origin=(1, 1))\n",
    "imshow_with_grid(img_res)"
   ]
  },
  {
   "cell_type": "markdown",
   "metadata": {},
   "source": [
    "## 2. Dilatação"
   ]
  },
  {
   "cell_type": "code",
   "execution_count": 6,
   "metadata": {
    "collapsed": true
   },
   "outputs": [],
   "source": [
    "def dilation(img, elem_est, origin):\n",
    "    '''Dilatação de uma imagem binária img utilizando o elemento\n",
    "       estruturante elem_est. A origem do elemento estruturante\n",
    "       é indicada pelo ponto origin'''\n",
    "\n",
    "    num_rows, num_cols = img.shape\n",
    "    num_rows_ee, num_cols_ee = elem_est.shape\n",
    "    \n",
    "    # Armazena as coordenadas do elemento estruturante. As coordenadas\n",
    "    # são refletidas, de acordo com a definição de dilatação\n",
    "    set_ee = []\n",
    "    for row in range(num_rows_ee):\n",
    "        for col in range(num_cols_ee):\n",
    "            if elem_est[row, col]==1:\n",
    "                set_ee.append((origin[0]-row, origin[1]-col))\n",
    "    \n",
    "    img_res = np.zeros_like(img)\n",
    "    for row in range(num_rows):\n",
    "        for col in range(num_cols):\n",
    "            z = (row, col)\n",
    "            has_intersect = intersects(img, set_ee, z)\n",
    "            if has_intersect:\n",
    "                img_res[row, col] = 1\n",
    "                \n",
    "    return img_res \n",
    "\n",
    "def intersects(img, set_ee, z):\n",
    "    '''Verifica se algum ponto do conjunto set_ee, transladado \n",
    "       de uma quantia z, mapeia para um pixel branco na imagem img'''\n",
    "\n",
    "    for point in set_ee:\n",
    "        # Translada o ponto\n",
    "        trans_point = (point[0]+z[0], point[1]+z[1])\n",
    "        # Verifica ponto somente se ele estiver dentro da imagem\n",
    "        if trans_point[0]>=0 and trans_point[0]<img.shape[0] and \\\n",
    "           trans_point[1]>=0 and trans_point[1]<img.shape[1]:\n",
    "        \n",
    "            if img[trans_point]==1:\n",
    "                return True\n",
    "    return False"
   ]
  },
  {
   "cell_type": "code",
   "execution_count": 7,
   "metadata": {},
   "outputs": [
    {
     "data": {
      "image/png": "[encoded data removed]",
      "text/plain": [
       "<Figure size 432x288 with 1 Axes>"
      ]
     },
     "metadata": {},
     "output_type": "display_data"
    }
   ],
   "source": [
    "elem_est = np.array([[0, 1, 0],\n",
    "                     [1, 1, 1],\n",
    "                     [0, 1, 0]])\n",
    "\n",
    "img_res = dilation(img, elem_est, origin=(1, 1))\n",
    "imshow_with_grid(img_res)"
   ]
  },
  {
   "cell_type": "markdown",
   "metadata": {},
   "source": [
    "## 3. Abertura e fechamento"
   ]
  },
  {
   "cell_type": "code",
   "execution_count": 8,
   "metadata": {
    "collapsed": true
   },
   "outputs": [],
   "source": [
    "def opening(img, elem_est, origin):\n",
    "    img_eroded = erosion(img, elem_est, origin)\n",
    "    img_opened = dilation(img_eroded, elem_est, origin)\n",
    "    \n",
    "    return img_opened\n",
    "\n",
    "def closing(img, elem_est, origin):\n",
    "    img_dilated = dilation(img, elem_est, origin)\n",
    "    img_closed = erosion(img_dilated, elem_est, origin)\n",
    "    \n",
    "    return img_closed"
   ]
  },
  {
   "cell_type": "code",
   "execution_count": 10,
   "metadata": {},
   "outputs": [
    {
     "data": {
      "text/plain": [
       "<matplotlib.image.AxesImage at 0x25d588fdfd0>"
      ]
     },
     "execution_count": 10,
     "metadata": {},
     "output_type": "execute_result"
    },
    {
     "data": {
      "image/png": "[encoded data removed]",
      "text/plain": [
       "<Figure size 864x360 with 3 Axes>"
      ]
     },
     "metadata": {},
     "output_type": "display_data"
    }
   ],
   "source": [
    "img_opened = opening(img, elem_est, (1,1))\n",
    "img_closed = closing(img, elem_est, (1,1))\n",
    "\n",
    "plt.figure(figsize=[12, 5])\n",
    "plt.subplot(1, 3, 1)\n",
    "plt.imshow(img, 'gray')\n",
    "plt.subplot(1, 3, 2)\n",
    "plt.imshow(img_opened, 'gray')\n",
    "plt.subplot(1, 3, 3)\n",
    "plt.imshow(img_closed, 'gray')"
   ]
  },
  {
   "cell_type": "code",
   "execution_count": null,
   "metadata": {
    "collapsed": true
   },
   "outputs": [],
   "source": []
  }
 ],
 "metadata": {
  "kernelspec": {
   "display_name": "Python 3",
   "language": "python",
   "name": "python3"
  },
  "language_info": {
   "codemirror_mode": {
    "name": "ipython",
    "version": 3
   },
   "file_extension": ".py",
   "mimetype": "text/x-python",
   "name": "python",
   "nbconvert_exporter": "python",
   "pygments_lexer": "ipython3",
   "version": "3.7.4"
  }
 },
 "nbformat": 4,
 "nbformat_minor": 2
}
