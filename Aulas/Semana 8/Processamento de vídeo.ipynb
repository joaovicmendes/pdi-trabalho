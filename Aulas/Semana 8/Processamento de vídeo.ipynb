{
 "cells": [
  {
   "cell_type": "markdown",
   "metadata": {},
   "source": [
    "# Processamento de Vídeo utilizando o OpenCV"
   ]
  },
  {
   "cell_type": "code",
   "execution_count": 1,
   "metadata": {},
   "outputs": [],
   "source": [
    "import cv2             # OpenCV\n",
    "import numpy as np"
   ]
  },
  {
   "cell_type": "markdown",
   "metadata": {},
   "source": [
    "### 1. Leitura e processamento de um arquivo de vídeo "
   ]
  },
  {
   "cell_type": "code",
   "execution_count": 4,
   "metadata": {},
   "outputs": [],
   "source": [
    "def green_boost(img, gamma):\n",
    "    '''Enaltece o canal verde de uma imagem através de uma transformação \n",
    "    pontual de lei de potência.'''\n",
    "    \n",
    "    green_channel = img[:,:,1]\n",
    "    new_green_channel = np.power(green_channel, gamma)\n",
    "    new_green_channel_normalized = 255*new_green_channel/np.max(new_green_channel)\n",
    "    new_green_channel_normalized = np.round(new_green_channel_normalized).astype(np.uint8)\n",
    "    new_img = img.copy()\n",
    "    new_img[:,:,1] = new_green_channel_normalized\n",
    "    \n",
    "    return new_img\n",
    "\n",
    "# Abre arquivo de vídeo\n",
    "vcap = cv2.VideoCapture('video.mp4')\n",
    "\n",
    "while True:\n",
    "\n",
    "    # Obtém próximo frame do vídeo. ret indica se o frame\n",
    "    # foi lido com sucesso, curr_frame possui a imagem\n",
    "    ret, curr_frame = vcap.read()\n",
    "    if ret==True:\n",
    "        # Aqui podemos aplicar métodos de processamento de imagem na imagem curr_frame. \n",
    "        # Por exemplo, enaltecer o canal verde\n",
    "        new_frame = green_boost(curr_frame, gamma=0.5)\n",
    "        cv2.imshow('frame',new_frame)\n",
    "        \n",
    "    # cv2.waitKey(x) faz o programa esperar x milisegundos para que uma tecla \n",
    "    # seja digitada. \n",
    "    # - Dependendo da plataforma, o resultado dessa função pode ser um número com mais \n",
    "    # de 8 bits. É comum que uma operação bitwise and seja feita entre o resultado \n",
    "    # dessa função e o número 0xff (11111111), de forma que apenas os 8 primeiros bits \n",
    "    # sejam mantidos. \n",
    "    # - Em alguns casos, o vídeo será mostrado em uma velocidade muito grande. Se isso\n",
    "    # ocorrer, é recomendável utilizar cv2.waitKey(33), que significa esperar 33 milisegundos \n",
    "    # para que uma tecla seja digitada. Isso equivale a mostrar 30 imagens por segundo (1/0.033).\n",
    "    # Portanto, o FPS (frames per second) do vídeo mostrado será aproximadamente 30. O \n",
    "    # valor não é exatamente 30 porque um tempo é gasto no processamento do frame\n",
    "    key = cv2.waitKey(1) & 0xff\n",
    "    \n",
    "    # A tecla esc corresponde ao valor 27\n",
    "    if key == 27:\n",
    "        break\n",
    "\n",
    "# Libera o arquivo\n",
    "vcap.release()\n",
    "# Fecha a janela\n",
    "cv2.destroyAllWindows()"
   ]
  },
  {
   "cell_type": "markdown",
   "metadata": {},
   "source": [
    "### 2. Leitura e processamento utilizando uma câmera"
   ]
  },
  {
   "cell_type": "code",
   "execution_count": 7,
   "metadata": {
    "scrolled": false
   },
   "outputs": [],
   "source": [
    "import scipy.ndimage as ndi\n",
    "\n",
    "def process_frame(img):\n",
    "    \n",
    "    img_gray = cv2.cvtColor(img, cv2.COLOR_BGR2GRAY)\n",
    "    img_gray = img_gray.astype(float)\n",
    "    grad_mag = ndi.gaussian_gradient_magnitude(img_gray, sigma=2)\n",
    "    grad_mag_norm = grad_mag - np.min(grad_mag)\n",
    "    grad_mag_norm = 255*grad_mag_norm/np.max(grad_mag_norm)\n",
    "    grad_mag_norm = np.round(grad_mag_norm).astype(np.uint8)    \n",
    "    return grad_mag_norm\n",
    "    \n",
    "# Abre dispositivo de captura. O parâmetro 0 faz com que\n",
    "# a primeira câmera encontrada seja utilizada\n",
    "vcap = cv2.VideoCapture(1)\n",
    "\n",
    "while True:\n",
    "    ret, curr_frame = vcap.read()\n",
    "    if ret==True:\n",
    "        # Podemos redimensionar a imagem para diminuir o custo \n",
    "        # computacional necessário para processar os frames\n",
    "        #resized_frame = cv2.resize(curr_frame, (640, 360))\n",
    "        processed_frame = process_frame(curr_frame)\n",
    "               \n",
    "        cv2.imshow('frame', curr_frame)\n",
    "    else:\n",
    "        print(\"Frame not available\")\n",
    "        \n",
    "    key = cv2.waitKey(1) & 0xff\n",
    "\n",
    "    if key == 27:\n",
    "        break\n",
    "\n",
    "vcap.release()\n",
    "cv2.destroyAllWindows()"
   ]
  },
  {
   "cell_type": "code",
   "execution_count": null,
   "metadata": {},
   "outputs": [],
   "source": []
  }
 ],
 "metadata": {
  "kernelspec": {
   "display_name": "Python 3",
   "language": "python",
   "name": "python3"
  },
  "language_info": {
   "codemirror_mode": {
    "name": "ipython",
    "version": 3
   },
   "file_extension": ".py",
   "mimetype": "text/x-python",
   "name": "python",
   "nbconvert_exporter": "python",
   "pygments_lexer": "ipython3",
   "version": "3.7.4"
  }
 },
 "nbformat": 4,
 "nbformat_minor": 2
}
